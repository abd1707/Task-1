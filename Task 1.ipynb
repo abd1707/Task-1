{
 "cells": [
  {
   "cell_type": "markdown",
   "id": "1645df5c",
   "metadata": {},
   "source": [
    "REFERAL CODE:- SIRSS2263"
   ]
  },
  {
   "cell_type": "markdown",
   "id": "bde23d1d",
   "metadata": {},
   "source": [
    "NAME:- ABDULLAH RAHMAN"
   ]
  },
  {
   "cell_type": "markdown",
   "id": "075643b8",
   "metadata": {},
   "source": [
    "PATTERN 1"
   ]
  },
  {
   "cell_type": "code",
   "execution_count": 4,
   "id": "761c0876",
   "metadata": {},
   "outputs": [
    {
     "name": "stdout",
     "output_type": "stream",
     "text": [
      "5 5 5 5 5 \n",
      "5 5 5 5 \n",
      "5 5 5 \n",
      "5 5 \n",
      "5 \n"
     ]
    }
   ],
   "source": [
    "for i in range(5,0,-1):\n",
    "    for j in range (1,i+1):\n",
    "         print('5', end = ' ')\n",
    "    print()"
   ]
  },
  {
   "cell_type": "markdown",
   "id": "f6d816ec",
   "metadata": {},
   "source": [
    "PATTERN 2"
   ]
  },
  {
   "cell_type": "code",
   "execution_count": 5,
   "id": "26484fdb",
   "metadata": {},
   "outputs": [
    {
     "name": "stdout",
     "output_type": "stream",
     "text": [
      "0 1 2 3 4 5 \n",
      "0 1 2 3 4 \n",
      "0 1 2 3 \n",
      "0 1 2 \n",
      "0 1 \n"
     ]
    }
   ],
   "source": [
    "for i in range(5,0,-1):\n",
    "    for j in range (0,i+1):\n",
    "        print(j, end = ' ')\n",
    "    print()"
   ]
  },
  {
   "cell_type": "markdown",
   "id": "581adc87",
   "metadata": {},
   "source": [
    "PATTERN 3"
   ]
  },
  {
   "cell_type": "code",
   "execution_count": 8,
   "id": "00681d85",
   "metadata": {},
   "outputs": [
    {
     "name": "stdout",
     "output_type": "stream",
     "text": [
      "1 \n",
      "3 3 \n",
      "5 5 5 \n",
      "7 7 7 7 \n",
      "9 9 9 9 9 \n"
     ]
    }
   ],
   "source": [
    "x=1\n",
    "for i in range(1,6):\n",
    "    for j in range (1,i+1,):\n",
    "        print(x, end = ' ')\n",
    "    x+=2\n",
    "    print()"
   ]
  },
  {
   "cell_type": "markdown",
   "id": "dcbc69f0",
   "metadata": {},
   "source": [
    "PATTERN 4"
   ]
  },
  {
   "cell_type": "code",
   "execution_count": 41,
   "id": "aafa29d2",
   "metadata": {},
   "outputs": [
    {
     "name": "stdout",
     "output_type": "stream",
     "text": [
      "1 \n",
      "2 1 \n",
      "3 2 1 \n",
      "4 3 2 1 \n",
      "5 4 3 2 1 \n"
     ]
    }
   ],
   "source": [
    "for i in range(0,5):\n",
    "    for j in range (i+1,0,-1):\n",
    "        print(j, end = ' ')\n",
    "    print()"
   ]
  },
  {
   "cell_type": "markdown",
   "id": "c85d0506",
   "metadata": {},
   "source": [
    "PATTERN 5"
   ]
  },
  {
   "cell_type": "code",
   "execution_count": 55,
   "id": "bc8c345e",
   "metadata": {},
   "outputs": [
    {
     "name": "stdout",
     "output_type": "stream",
     "text": [
      "1 \n",
      "3 2 \n",
      "6 5 4 \n",
      "10 9 8 7 \n"
     ]
    }
   ],
   "source": [
    "x=1\n",
    "c=1\n",
    "for i in range(0,4):\n",
    "  x=c+i\n",
    "  for j in range (0,i+1):\n",
    "    print(x, end = ' ')\n",
    "    x-=1\n",
    "    c+=1\n",
    "  print()"
   ]
  },
  {
   "cell_type": "markdown",
   "id": "7183a763",
   "metadata": {},
   "source": [
    "PATTERN 6"
   ]
  },
  {
   "cell_type": "code",
   "execution_count": 60,
   "id": "87b488dc",
   "metadata": {},
   "outputs": [
    {
     "name": "stdout",
     "output_type": "stream",
     "text": [
      "1 \n",
      "1 1 \n",
      "1 2 1 \n",
      "1 3 3 1 \n",
      "1 4 6 4 1 \n",
      "1 5 10 10 5 1 \n",
      "1 6 15 20 15 6 1 \n"
     ]
    }
   ],
   "source": [
    "from math import factorial\n",
    "n = 7\n",
    "for i in range(n):\n",
    "\tfor j in range(i+1):\n",
    "\t\tprint(factorial(i)//(factorial(j)*factorial(i-j)), end=\" \")\n",
    "\tprint()"
   ]
  },
  {
   "cell_type": "markdown",
   "id": "18947a36",
   "metadata": {},
   "source": [
    "PATTERN 7"
   ]
  },
  {
   "cell_type": "code",
   "execution_count": 62,
   "id": "ac2d67d6",
   "metadata": {},
   "outputs": [
    {
     "name": "stdout",
     "output_type": "stream",
     "text": [
      "1 2 3 4 5 \n",
      "2 2 3 4 5 \n",
      "3 3 3 4 5 \n",
      "4 4 4 4 5 \n",
      "5 5 5 5 5 \n"
     ]
    }
   ],
   "source": [
    "rows = 5\n",
    "for i in range(1, rows + 1):  \n",
    "    for j in range(1, rows + 1):  \n",
    "        if j <= i:  \n",
    "            print(i, end=' ')  \n",
    "        else:  \n",
    "            print(j, end=' ')  \n",
    "    print()  "
   ]
  },
  {
   "cell_type": "markdown",
   "id": "6030a039",
   "metadata": {},
   "source": [
    "PATTERN 8"
   ]
  },
  {
   "cell_type": "code",
   "execution_count": 63,
   "id": "fcfe8de4",
   "metadata": {},
   "outputs": [
    {
     "name": "stdout",
     "output_type": "stream",
     "text": [
      "1 \n",
      "2 4 \n",
      "3 6 9 \n",
      "4 8 12 16 \n",
      "5 10 15 20 25 \n",
      "6 12 18 24 30 36 \n",
      "7 14 21 28 35 42 49 \n",
      "8 16 24 32 40 48 56 64 \n"
     ]
    }
   ],
   "source": [
    "for i in range (1,9):\n",
    "  for j in range(1, i+1):\n",
    "    x=i*j\n",
    "    print(x, end = ' ')\n",
    "  print()"
   ]
  },
  {
   "cell_type": "markdown",
   "id": "6c2e66dd",
   "metadata": {},
   "source": [
    "PATTERN 9"
   ]
  },
  {
   "cell_type": "code",
   "execution_count": 64,
   "id": "cd96f9fd",
   "metadata": {},
   "outputs": [
    {
     "name": "stdout",
     "output_type": "stream",
     "text": [
      "          * * * * * * * \n",
      "           * * * * * * \n",
      "            * * * * * \n",
      "             * * * * \n",
      "              * * * \n",
      "               * * \n",
      "                * \n"
     ]
    }
   ],
   "source": [
    "rows = 6 \n",
    "k = 2 * rows - 2    \n",
    "for i in range(rows, -1, -1):    \n",
    "    for j in range(k, 0, -1):  \n",
    "        print(end=' ')  \n",
    "    k = k + 1  \n",
    "    for j in range(0, i + 1):  \n",
    "        print('*', end = ' ')  \n",
    "    print()  "
   ]
  },
  {
   "cell_type": "markdown",
   "id": "e6eb7008",
   "metadata": {},
   "source": [
    "PATTERN 10"
   ]
  },
  {
   "cell_type": "code",
   "execution_count": 66,
   "id": "2cd1cea9",
   "metadata": {},
   "outputs": [
    {
     "name": "stdout",
     "output_type": "stream",
     "text": [
      "              *   \n",
      "             *  *   \n",
      "            *  *  *   \n",
      "           *  *  *  *   \n",
      "          *  *  *  *  *   \n",
      "         *  *  *  *  *  *   \n",
      "        *  *  *  *  *  *  *   \n",
      "       *  *  *  *  *  *  *  *   \n"
     ]
    }
   ],
   "source": [
    "n = 8 \n",
    "m = (2 * n) - 2  \n",
    "for i in range(0, n):  \n",
    "    for j in range(0, m):  \n",
    "        print(end=\" \")  \n",
    "    m = m - 1\n",
    "    for j in range(0, i + 1):   \n",
    "        print(\"* \", end=' ')  \n",
    "    print(\" \")  "
   ]
  },
  {
   "cell_type": "markdown",
   "id": "33e6c188",
   "metadata": {},
   "source": [
    "PATTERN 11"
   ]
  },
  {
   "cell_type": "code",
   "execution_count": 68,
   "id": "ee40b5c1",
   "metadata": {},
   "outputs": [
    {
     "name": "stdout",
     "output_type": "stream",
     "text": [
      "* \n",
      "* * \n",
      "* * * \n",
      "* * * * \n",
      "* * * * * \n",
      "* * * * * * \n",
      "\n",
      "* * * * * * \n",
      "* * * * * \n",
      "* * * * \n",
      "* * * \n",
      "* * \n",
      "* \n"
     ]
    }
   ],
   "source": [
    "for i in range(1,7):\n",
    "  for j in range(i+1, 1 , -1):\n",
    "    print('* ', end = '')\n",
    "  print()\n",
    "\n",
    "print()\n",
    "\n",
    "for i in range(6,0,-1):\n",
    "  for j in range(i+1, 1 , -1):\n",
    "    print('* ', end = '')\n",
    "  print()"
   ]
  },
  {
   "cell_type": "markdown",
   "id": "64722d36",
   "metadata": {},
   "source": [
    "PATTERN 12"
   ]
  },
  {
   "cell_type": "code",
   "execution_count": 69,
   "id": "70fd3c37",
   "metadata": {},
   "outputs": [
    {
     "name": "stdout",
     "output_type": "stream",
     "text": [
      "* \n",
      "* * \n",
      "* * * \n",
      "* * * * \n",
      "* * * * * \n",
      "* * * * \n",
      "* * * \n",
      "* * \n",
      "* \n"
     ]
    }
   ],
   "source": [
    "for i in range(1,6):\n",
    "  for j in range(i+1, 1 , -1):\n",
    "    print('* ', end = '')\n",
    "  print()\n",
    "\n",
    "for i in range(4,0,-1):\n",
    "  for j in range(i+1, 1 , -1):\n",
    "    print('* ', end = '')\n",
    "  print()"
   ]
  },
  {
   "cell_type": "markdown",
   "id": "dffa063f",
   "metadata": {},
   "source": [
    "PATTERN 13"
   ]
  },
  {
   "cell_type": "code",
   "execution_count": 71,
   "id": "712972eb",
   "metadata": {},
   "outputs": [
    {
     "name": "stdout",
     "output_type": "stream",
     "text": [
      "        * \n",
      "      * * \n",
      "    * * * \n",
      "  * * * * \n",
      "* * * * * \n",
      "  * * * * \n",
      "    * * * \n",
      "      * * \n",
      "        * \n"
     ]
    }
   ],
   "source": [
    "rows = 5\n",
    "k = 2 * (rows - 1)\n",
    "for i in range(1,6):\n",
    "  for j in range(k,0,-1):\n",
    "    print(end = ' ')\n",
    "  k=k-2\n",
    "  for j in range(i+1, 1 , -1):\n",
    "    print('* ', end = '')\n",
    "  print()\n",
    "\n",
    "rows = 4\n",
    "k = (rows-2)\n",
    "for i in range(4,0,-1):\n",
    "  for j in range(0,k):\n",
    "    print(end = ' ')\n",
    "  k=k+2\n",
    "  for j in range(1,i+1):\n",
    "    print('* ', end = '')\n",
    "  print()"
   ]
  },
  {
   "cell_type": "markdown",
   "id": "998479a7",
   "metadata": {},
   "source": [
    "PATTERN 14"
   ]
  },
  {
   "cell_type": "code",
   "execution_count": 73,
   "id": "57ef42f1",
   "metadata": {},
   "outputs": [
    {
     "name": "stdout",
     "output_type": "stream",
     "text": [
      "*********\n",
      " *******\n",
      "  *****\n",
      "   ***\n",
      "    *\n",
      "   ***\n",
      "  *****\n",
      " *******\n",
      "*********\n"
     ]
    }
   ],
   "source": [
    "row = 5\n",
    "# Upper\n",
    "for i in range(row, 0, -1):\n",
    "    for j in range(row-i):\n",
    "        print(\" \", end=\"\")\n",
    "    for j in range(1, 2*i):\n",
    "        print(\"*\", end=\"\")\n",
    "    print()\n",
    "\n",
    "# Lower\n",
    "for i in range(2, row+1):\n",
    "    for j in range(row-i):\n",
    "        print(\" \", end=\"\")\n",
    "    for j in range(1, 2*i):\n",
    "        print(\"*\", end=\"\")\n",
    "    print()"
   ]
  },
  {
   "cell_type": "markdown",
   "id": "2a4dd940",
   "metadata": {},
   "source": [
    "PATTERN 15"
   ]
  },
  {
   "cell_type": "code",
   "execution_count": 74,
   "id": "89f94b44",
   "metadata": {},
   "outputs": [
    {
     "name": "stdout",
     "output_type": "stream",
     "text": [
      "************ \n",
      "***********_  \n",
      "**********_ _  \n",
      "*********_ _ _  \n",
      "********_ _ _ _  \n",
      "*******_ _ _ _ _  \n",
      "******_ _ _ _ _ _  \n"
     ]
    }
   ],
   "source": [
    "n = 7\n",
    "m = (2 * n) - 2  \n",
    "for i in range(0, n):  \n",
    "    for j in range(0, m):  \n",
    "        print('*',end=\"\")  \n",
    "    m = m - 1\n",
    "    for j in range(1, i + 1):   \n",
    "        print(\"_ \", end='')  \n",
    "    print(\" \")  "
   ]
  },
  {
   "cell_type": "code",
   "execution_count": null,
   "id": "232526d2",
   "metadata": {},
   "outputs": [],
   "source": []
  }
 ],
 "metadata": {
  "kernelspec": {
   "display_name": "Python 3",
   "language": "python",
   "name": "python3"
  },
  "language_info": {
   "codemirror_mode": {
    "name": "ipython",
    "version": 3
   },
   "file_extension": ".py",
   "mimetype": "text/x-python",
   "name": "python",
   "nbconvert_exporter": "python",
   "pygments_lexer": "ipython3",
   "version": "3.8.8"
  }
 },
 "nbformat": 4,
 "nbformat_minor": 5
}
